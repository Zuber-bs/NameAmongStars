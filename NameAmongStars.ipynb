{
  "nbformat": 4,
  "nbformat_minor": 0,
  "metadata": {
    "colab": {
      "provenance": [],
      "authorship_tag": "ABX9TyPgzJpoVavD9KbZJPJSrzza",
      "include_colab_link": true
    },
    "kernelspec": {
      "name": "python3",
      "display_name": "Python 3"
    },
    "language_info": {
      "name": "python"
    }
  },
  "cells": [
    {
      "cell_type": "markdown",
      "metadata": {
        "id": "view-in-github",
        "colab_type": "text"
      },
      "source": [
        "<a href=\"https://colab.research.google.com/github/Zuber-bs/NameAmongStars/blob/main/NameAmongStars.ipynb\" target=\"_parent\"><img src=\"https://colab.research.google.com/assets/colab-badge.svg\" alt=\"Open In Colab\"/></a>"
      ]
    },
    {
      "cell_type": "code",
      "execution_count": 13,
      "metadata": {
        "colab": {
          "base_uri": "https://localhost:8080/"
        },
        "id": "SlW8JrQQ35D_",
        "outputId": "026db169-eeb4-4d64-f46b-f4235c4845c4"
      },
      "outputs": [
        {
          "output_type": "stream",
          "name": "stdout",
          "text": [
            "Enter your name: Hello\n",
            "H * * * * \n",
            "* E * * * \n",
            "* * L * * \n",
            "* * * L * \n",
            "* * * * O \n"
          ]
        }
      ],
      "source": [
        "name = input(\"Enter your name: \")\n",
        "iteration = len(name)\n",
        "name=name.upper()\n",
        "\n",
        "for i in range(iteration):\n",
        "  for j in range(0, iteration):\n",
        "    if(i == j):\n",
        "      print(name[j], end=\" \")\n",
        "    else:\n",
        "      print(\"*\", end=\" \")\n",
        "  print()"
      ]
    }
  ]
}